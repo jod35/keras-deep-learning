{
 "cells": [
  {
   "cell_type": "code",
   "execution_count": 15,
   "metadata": {},
   "outputs": [],
   "source": [
    "from keras.datasets import mnist\n",
    "\n",
    "(train_data,train_labels),(test_data,test_labels)=mnist.load_data()"
   ]
  },
  {
   "cell_type": "code",
   "execution_count": 16,
   "metadata": {},
   "outputs": [
    {
     "name": "stdout",
     "output_type": "stream",
     "text": [
      "The training data is of shape (60000, 28, 28)\n",
      "The train labels are of the shape (60000,)\n",
      "\n",
      "\n",
      "The testing data is of shape (10000, 28, 28)\n",
      "The testing labels are of the shape(10000,)\n"
     ]
    }
   ],
   "source": [
    "print(f\"The training data is of shape {train_data.shape}\")\n",
    "print(f\"The train labels are of the shape {train_labels.shape}\")\n",
    "print(\"\\n\")\n",
    "print(f\"The testing data is of shape {test_data.shape}\")\n",
    "print(f\"The testing labels are of the shape{test_labels.shape}\")"
   ]
  },
  {
   "cell_type": "code",
   "execution_count": 17,
   "metadata": {},
   "outputs": [],
   "source": [
    "#we need to build the neural network and train it on our training data\n",
    "\n",
    "from keras import models\n",
    "from keras import layers\n",
    "\n",
    "network=models.Sequential() #create our neural network\n",
    "\n",
    "network.add(layers.Dense(512,activation='relu',input_shape=(28*28,))) #add a layer\n",
    "network.add(layers.Dense(10,activation='softmax')) # another layer"
   ]
  },
  {
   "cell_type": "code",
   "execution_count": 18,
   "metadata": {},
   "outputs": [],
   "source": [
    "network.compile(\n",
    "    optimizer=\"rmsprop\",\n",
    "    loss=\"categorical_crossentropy\",\n",
    "    metrics=['accuracy']\n",
    ")"
   ]
  },
  {
   "cell_type": "code",
   "execution_count": 19,
   "metadata": {},
   "outputs": [
    {
     "name": "stdout",
     "output_type": "stream",
     "text": [
      "(60000, 10)\n"
     ]
    }
   ],
   "source": [
    "#preprocess the data so as to make it in a form our network understands before training\n",
    "train_data=train_data.reshape((60000,28*28))\n",
    "train_labels=train_labels.astype('float32')/255\n",
    "\n",
    "test_data=test_data.reshape((10000,28*28))\n",
    "test_labels=test_labels.astype('float32')/255\n",
    "\n",
    "#categorically encode the labels\n",
    "from keras.utils import to_categorical\n",
    "train_labels=to_categorical(train_labels,10)\n",
    "test_labels=to_categorical(test_labels,10)\n",
    "\n",
    "\n",
    "print(train_labels.shape)\n"
   ]
  },
  {
   "cell_type": "code",
   "execution_count": 20,
   "metadata": {},
   "outputs": [
    {
     "name": "stdout",
     "output_type": "stream",
     "text": [
      "(60000, 10)\n"
     ]
    }
   ],
   "source": [
    "print(train_labels.shape)"
   ]
  },
  {
   "cell_type": "code",
   "execution_count": 21,
   "metadata": {},
   "outputs": [
    {
     "name": "stdout",
     "output_type": "stream",
     "text": [
      "Epoch 1/5\n",
      "60000/60000 [==============================] - 45s 758us/step - loss: 0.2815 - accuracy: 0.9979\n",
      "Epoch 2/5\n",
      "60000/60000 [==============================] - 45s 751us/step - loss: 0.0000e+00 - accuracy: 1.0000\n",
      "Epoch 3/5\n",
      "60000/60000 [==============================] - 45s 757us/step - loss: 0.0000e+00 - accuracy: 1.0000\n",
      "Epoch 4/5\n",
      "60000/60000 [==============================] - 47s 782us/step - loss: 0.0000e+00 - accuracy: 1.0000\n",
      "Epoch 5/5\n",
      "60000/60000 [==============================] - 45s 756us/step - loss: 0.0000e+00 - accuracy: 1.0000\n"
     ]
    },
    {
     "data": {
      "text/plain": [
       "<keras.callbacks.callbacks.History at 0x7f8f484b4a10>"
      ]
     },
     "execution_count": 21,
     "metadata": {},
     "output_type": "execute_result"
    }
   ],
   "source": [
    "#time to train our neural network\n",
    "network.fit(train_data,train_labels,epochs=5,batch_size=128)"
   ]
  },
  {
   "cell_type": "code",
   "execution_count": 22,
   "metadata": {},
   "outputs": [
    {
     "name": "stdout",
     "output_type": "stream",
     "text": [
      "10000/10000 [==============================] - 6s 589us/step\n",
      "The accuracy on the testing set is 1.0\n",
      "The loss on the testing set is 0.0\n"
     ]
    }
   ],
   "source": [
    "#checking the model on the test set\n",
    "(test_loss,test_acc)=network.evaluate(test_data,test_labels,verbose=1)\n",
    "print(f\"The accuracy on the testing set is {test_acc}\")\n",
    "print(f\"The loss on the testing set is {test_loss}\")"
   ]
  },
  {
   "cell_type": "code",
   "execution_count": null,
   "metadata": {},
   "outputs": [],
   "source": []
  }
 ],
 "metadata": {
  "kernelspec": {
   "display_name": "Python 3",
   "language": "python",
   "name": "python3"
  },
  "language_info": {
   "codemirror_mode": {
    "name": "ipython",
    "version": 3
   },
   "file_extension": ".py",
   "mimetype": "text/x-python",
   "name": "python",
   "nbconvert_exporter": "python",
   "pygments_lexer": "ipython3",
   "version": "3.7.8"
  }
 },
 "nbformat": 4,
 "nbformat_minor": 4
}
